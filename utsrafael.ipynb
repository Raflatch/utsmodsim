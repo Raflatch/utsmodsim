{
 "cells": [
  {
   "cell_type": "code",
   "execution_count": 1,
   "metadata": {},
   "outputs": [
    {
     "name": "stdout",
     "output_type": "stream",
     "text": [
      "Collecting openpyxl\n",
      "  Obtaining dependency information for openpyxl from https://files.pythonhosted.org/packages/6a/94/a59521de836ef0da54aaf50da6c4da8fb4072fb3053fa71f052fd9399e7a/openpyxl-3.1.2-py2.py3-none-any.whl.metadata\n",
      "  Downloading openpyxl-3.1.2-py2.py3-none-any.whl.metadata (2.5 kB)\n",
      "Collecting et-xmlfile (from openpyxl)\n",
      "  Obtaining dependency information for et-xmlfile from https://files.pythonhosted.org/packages/96/c2/3dd434b0108730014f1b96fd286040dc3bcb70066346f7e01ec2ac95865f/et_xmlfile-1.1.0-py3-none-any.whl.metadata\n",
      "  Downloading et_xmlfile-1.1.0-py3-none-any.whl.metadata (1.8 kB)\n",
      "Downloading openpyxl-3.1.2-py2.py3-none-any.whl (249 kB)\n",
      "   ---------------------------------------- 0.0/250.0 kB ? eta -:--:--\n",
      "   ---------------------------------------- 0.0/250.0 kB ? eta -:--:--\n",
      "   - -------------------------------------- 10.2/250.0 kB ? eta -:--:--\n",
      "   ---- ---------------------------------- 30.7/250.0 kB 330.3 kB/s eta 0:00:01\n",
      "   ------ -------------------------------- 41.0/250.0 kB 326.8 kB/s eta 0:00:01\n",
      "   --------------------- ---------------- 143.4/250.0 kB 853.3 kB/s eta 0:00:01\n",
      "   ---------------------------------------- 250.0/250.0 kB 1.3 MB/s eta 0:00:00\n",
      "Downloading et_xmlfile-1.1.0-py3-none-any.whl (4.7 kB)\n",
      "Installing collected packages: et-xmlfile, openpyxl\n",
      "Successfully installed et-xmlfile-1.1.0 openpyxl-3.1.2\n",
      "Note: you may need to restart the kernel to use updated packages.\n"
     ]
    }
   ],
   "source": [
    "pip install openpyxl\n"
   ]
  },
  {
   "cell_type": "code",
   "execution_count": 2,
   "metadata": {},
   "outputs": [
    {
     "ename": "ModuleNotFoundError",
     "evalue": "No module named 'modsim'",
     "output_type": "error",
     "traceback": [
      "\u001b[1;31m---------------------------------------------------------------------------\u001b[0m",
      "\u001b[1;31mModuleNotFoundError\u001b[0m                       Traceback (most recent call last)",
      "Cell \u001b[1;32mIn[2], line 1\u001b[0m\n\u001b[1;32m----> 1\u001b[0m \u001b[38;5;28;01mfrom\u001b[39;00m \u001b[38;5;21;01mmodsim\u001b[39;00m \u001b[38;5;28;01mimport\u001b[39;00m State, System\n\u001b[0;32m      2\u001b[0m \u001b[38;5;28;01mimport\u001b[39;00m \u001b[38;5;21;01mnumpy\u001b[39;00m \u001b[38;5;28;01mas\u001b[39;00m \u001b[38;5;21;01mnp\u001b[39;00m\n\u001b[0;32m      3\u001b[0m \u001b[38;5;28;01mimport\u001b[39;00m \u001b[38;5;21;01mpandas\u001b[39;00m \u001b[38;5;28;01mas\u001b[39;00m \u001b[38;5;21;01mpd\u001b[39;00m\n",
      "\u001b[1;31mModuleNotFoundError\u001b[0m: No module named 'modsim'"
     ]
    }
   ],
   "source": [
    "from modsim import State, System\n",
    "import numpy as np\n",
    "import pandas as pd\n",
    "\n",
    "def throw_dice(system):\n",
    "    \"\"\"Mensimulasikan pelemparan dadu.\n",
    "\n",
    "    system: System object\n",
    "    \"\"\"\n",
    "    # Menghasilkan nilai acak antara 1 dan 6 (sisi dadu)\n",
    "    roll = np.random.randint(1, 7)\n",
    "    \n",
    "    # Menambahkan hasil pelemparan ke dalam state\n",
    "    system.state.results[roll] += 1\n",
    "\n",
    "def run_simulation(system, num_rolls):\n",
    "    \"\"\"Menjalankan simulasi pelemparan dadu sebanyak num_rolls kali.\n",
    "\n",
    "    system: System object\n",
    "    num_rolls: jumlah pelemparan dadu\n",
    "    \"\"\"\n",
    "    for _ in range(num_rolls):\n",
    "        throw_dice(system)\n",
    "\n",
    "def save_results_to_excel(results, filename):\n",
    "    \"\"\"Menyimpan hasil simulasi ke dalam file Excel.\n",
    "\n",
    "    results: DataFrame berisi hasil simulasi\n",
    "    filename: nama file Excel untuk disimpan\n",
    "    \"\"\"\n",
    "    results.to_excel(filename, index=False)\n",
    "    print(f\"Simulasi telah disimpan dalam file {filename}\")\n",
    "\n",
    "# Inisialisasi state awal\n",
    "init_state = State(results={i: 0 for i in range(1, 7)})\n",
    "\n",
    "# Inisialisasi system\n",
    "dice_system = System(state=init_state)\n",
    "\n",
    "# Menjalankan simulasi dengan 1000 pelemparan dadu\n",
    "num_rolls = 1000\n",
    "run_simulation(dice_system, num_rolls)\n",
    "\n",
    "# Menampilkan hasil\n",
    "for outcome, count in dice_system.state.results.items():\n",
    "    print(f\"Jumlah kali keluar angka {outcome}: {count}\")\n",
    "\n",
    "# Membuat DataFrame dari hasil simulasi\n",
    "results_df = pd.DataFrame({'Outcome': list(dice_system.state.results.keys()),\n",
    "                           'Count': list(dice_system.state.results.values())})\n",
    "\n",
    "# Menyimpan DataFrame ke dalam file Excel\n",
    "save_results_to_excel(results_df, 'dice_roll_simulation.xlsx')\n"
   ]
  }
 ],
 "metadata": {
  "kernelspec": {
   "display_name": "modsim",
   "language": "python",
   "name": "python3"
  },
  "language_info": {
   "codemirror_mode": {
    "name": "ipython",
    "version": 3
   },
   "file_extension": ".py",
   "mimetype": "text/x-python",
   "name": "python",
   "nbconvert_exporter": "python",
   "pygments_lexer": "ipython3",
   "version": "3.11.5"
  }
 },
 "nbformat": 4,
 "nbformat_minor": 2
}
